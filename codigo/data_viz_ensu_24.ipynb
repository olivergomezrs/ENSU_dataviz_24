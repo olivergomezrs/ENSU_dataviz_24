{
 "cells": [
  {
   "cell_type": "code",
   "execution_count": null,
   "metadata": {},
   "outputs": [],
   "source": [
    "import pandas as pd # Pandas para tratar los datos\n",
    "import dash # Framework para crear aplicaciones web interactivas\n",
    "from dash import dcc, html # dcc para crear desplegables\n",
    "from dash.dependencies import Input, Output\n",
    "import plotly.express as px # Para graficos de barras y línea\n",
    "import plotly.graph_objs as go\n",
    "import os # Para acceder a archivos en carpetas\n"
   ]
  },
  {
   "cell_type": "code",
   "execution_count": 21,
   "metadata": {},
   "outputs": [
    {
     "name": "stderr",
     "output_type": "stream",
     "text": [
      "C:\\Users\\comod\\AppData\\Local\\Temp\\ipykernel_13708\\1198153767.py:18: DtypeWarning:\n",
      "\n",
      "Columns (144) have mixed types. Specify dtype option on import or set low_memory=False.\n",
      "\n",
      "C:\\Users\\comod\\AppData\\Local\\Temp\\ipykernel_13708\\1198153767.py:18: DtypeWarning:\n",
      "\n",
      "Columns (148) have mixed types. Specify dtype option on import or set low_memory=False.\n",
      "\n",
      "C:\\Users\\comod\\AppData\\Local\\Temp\\ipykernel_13708\\1198153767.py:18: DtypeWarning:\n",
      "\n",
      "Columns (244) have mixed types. Specify dtype option on import or set low_memory=False.\n",
      "\n"
     ]
    }
   ],
   "source": [
    "# Cargar los datos\n",
    "data_folder = \"C:/Users/comod/Downloads/Visualizador de datos ENSU 2024/data\"\n",
    "# Inicializar una lista vacía para almacenar los DataFrames\n",
    "dfs = []\n",
    "\n",
    "# Diccionario para mapear los códigos de trimestre a meses\n",
    "trimestre_a_mes = {\n",
    "    '0324': 'Marzo',\n",
    "    '0624': 'Junio',\n",
    "    '0924': 'Septiembre',\n",
    "    '1224': 'Diciembre'\n",
    "}\n",
    "\n",
    "# Recorrer los archivos en la carpeta\n",
    "for file in os.listdir(data_folder):\n",
    "    if file.startswith(\"conjunto_de_datos_ensu_\") and file.endswith(\".csv\"):\n",
    "        # Cargar cada archivo CSV en un DataFrame\n",
    "        df = pd.read_csv(os.path.join(data_folder, file))\n",
    "        # Extraer el trimestre del nombre del archivo\n",
    "        trimestre = file.split(\"_\")[-1].split(\".\")[0]\n",
    "        df['Trimestre'] = trimestre\n",
    "        # Agregar la columna del mes\n",
    "        df['Mes'] = trimestre_a_mes.get(trimestre, 'Desconocido')\n",
    "        dfs.append(df)\n",
    "\n",
    "# Combinar todos los DataFrames en uno solo\n",
    "df_combined = pd.concat(dfs, ignore_index=True)"
   ]
  },
  {
   "cell_type": "code",
   "execution_count": null,
   "metadata": {},
   "outputs": [
    {
     "data": {
      "text/plain": [
       "array(['ID_VIV', 'ID_PER', 'UPM', 'VIV_SEL', 'R_SEL', 'CVE_ENT',\n",
       "       'NOM_ENT', 'CVE_MUN', 'NOM_MUN', 'LOC', 'CD', 'NOM_CD', 'PER',\n",
       "       'R_DEF', 'H_MUD', 'S_MUD', 'TIPO_CUEST', 'N_ENT', 'SEXO', 'EDAD',\n",
       "       'BP1_1', 'BP1_2_01', 'BP1_2_02', 'BP1_2_03', 'BP1_2_04',\n",
       "       'BP1_2_05', 'BP1_2_06', 'BP1_2_07', 'BP1_2_08', 'BP1_2_09',\n",
       "       'BP1_2_10', 'BP1_2_11', 'BP1_2_12', 'BP1_3', 'BP1_4_1', 'BP1_4_2',\n",
       "       'BP1_4_3', 'BP1_4_4', 'BP1_4_5', 'BP1_4_6', 'BP1_4_7', 'BP1_4_8',\n",
       "       'BP1_5_1', 'BP1_5_2', 'BP1_5_3', 'BP1_5_4', 'BP1_5_5', 'BP1_6_01',\n",
       "       'BP1_6_02', 'BP1_6_03', 'BP1_6_04', 'BP1_6_05', 'BP1_6_06',\n",
       "       'BP1_6_07', 'BP1_6_08', 'BP1_6_09', 'BP1_6_10', 'BP1_6_11',\n",
       "       'BP1_6_12', 'BP1_6_13', 'BP1_6_99', 'BP1_7_1', 'BP1_7_2',\n",
       "       'BP1_7_3', 'BP1_7_4', 'BP1_7_5', 'BP1_7_6', 'BP1_8_1', 'BP1_9_1',\n",
       "       'BP1_8_2', 'BP1_9_2', 'BP1_8_3', 'BP1_9_3', 'BP1_8_4', 'BP1_9_4',\n",
       "       'BP1_8_5', 'BP1_9_5', 'BP1_8_6', 'BP1_9_6', 'BP2_1', 'BP2_2_01',\n",
       "       'BP2_2_02', 'BP2_2_03', 'BP2_2_04', 'BP2_2_05', 'BP2_2_06',\n",
       "       'BP2_2_07', 'BP2_2_08', 'BP2_2_09', 'BP2_2_10', 'BP2_2_11',\n",
       "       'BP2_2_12', 'BP2_2_13', 'BP2_2_14', 'BP2_2_15', 'BP2_2_16',\n",
       "       'BP2_2_17', 'BP2_2_18', 'BP2_3_1', 'BP2_3_2', 'BP2_3_3', 'BP2_3_4',\n",
       "       'BP2_3_5', 'BP2_3_6', 'BP2_3_7', 'BP2_4_01', 'BP2_4_02',\n",
       "       'BP2_4_03', 'BP2_4_04', 'BP2_4_05', 'BP2_4_06', 'BP2_4_07',\n",
       "       'BP2_4_08', 'BP2_4_09', 'BP2_4_10', 'BP2_4_11', 'BP3_1_01',\n",
       "       'BP3_1_02', 'BP3_1_03', 'BP3_1_04', 'BP3_1_05', 'BP3_1_06',\n",
       "       'BP3_1_07', 'BP3_1_08', 'BP3_1_09', 'BP3_1_10', 'BP3_1_11',\n",
       "       'BP3_1_12', 'BP3_1_13', 'BP3_1_14', 'BP3_1_15', 'BP3_1_16',\n",
       "       'BP3_1_99', 'BP3_2', 'BP3_2A', 'BP4_1_1', 'BP4_1_2', 'BP4_1_3',\n",
       "       'FAC_VIV', 'FAC_SEL', 'DOMINIO', 'EST', 'UPM_DIS', 'EST_DIS',\n",
       "       'REG_CD', 'Trimestre', 'Mes', 'ID_VIVT', 'ID_PERT', 'BP1_6_1',\n",
       "       'BP1_6_2', 'BP1_6_3', 'BP1_6_4', 'BP1_6_5', 'BP1_6_6', 'BP3_3',\n",
       "       'BP3_4', 'BP3_5', 'BP3_6', 'BP4_1_4', 'BP4_1_5', 'BP4_1_6',\n",
       "       'BP4_1_7', 'BP4_1_8', 'BP4_1_9', 'BP4_1', 'BP4_2', 'BP4_3_1',\n",
       "       'BP4_3_2', 'BP4_3_3', 'BP4_3_4', 'BP4_3_5', 'BP4_3_6', 'BP4_4_1_1',\n",
       "       'BP4_4_1_2', 'BP4_4_1_3', 'BP4_5_1_10', 'BP4_5_1_11', 'BP4_5_1_12',\n",
       "       'BP4_5_1_01', 'BP4_5_1_02', 'BP4_5_1_03', 'BP4_5_1_04',\n",
       "       'BP4_5_1_05', 'BP4_5_1_06', 'BP4_5_1_07', 'BP4_5_1_08',\n",
       "       'BP4_5_1_09', 'BP4_4_2_1', 'BP4_4_2_2', 'BP4_4_2_3', 'BP4_5_2_10',\n",
       "       'BP4_5_2_11', 'BP4_5_2_12', 'BP4_5_2_01', 'BP4_5_2_02',\n",
       "       'BP4_5_2_03', 'BP4_5_2_04', 'BP4_5_2_05', 'BP4_5_2_06',\n",
       "       'BP4_5_2_07', 'BP4_5_2_08', 'BP4_5_2_09', 'BP4_4_3_1', 'BP4_4_3_2',\n",
       "       'BP4_4_3_3', 'BP4_5_3_10', 'BP4_5_3_11', 'BP4_5_3_12',\n",
       "       'BP4_5_3_01', 'BP4_5_3_02', 'BP4_5_3_03', 'BP4_5_3_04',\n",
       "       'BP4_5_3_05', 'BP4_5_3_06', 'BP4_5_3_07', 'BP4_5_3_08',\n",
       "       'BP4_5_3_09', 'BP4_4_4_1', 'BP4_4_4_2', 'BP4_4_4_3', 'BP4_5_4_10',\n",
       "       'BP4_5_4_11', 'BP4_5_4_12', 'BP4_5_4_01', 'BP4_5_4_02',\n",
       "       'BP4_5_4_03', 'BP4_5_4_04', 'BP4_5_4_05', 'BP4_5_4_06',\n",
       "       'BP4_5_4_07', 'BP4_5_4_08', 'BP4_5_4_09', 'BP4_4_5_1', 'BP4_4_5_2',\n",
       "       'BP4_4_5_3', 'BP4_5_5_10', 'BP4_5_5_11', 'BP4_5_5_12',\n",
       "       'BP4_5_5_01', 'BP4_5_5_02', 'BP4_5_5_03', 'BP4_5_5_04',\n",
       "       'BP4_5_5_05', 'BP4_5_5_06', 'BP4_5_5_07', 'BP4_5_5_08',\n",
       "       'BP4_5_5_09', 'BP4_4_6_1', 'BP4_4_6_2', 'BP4_4_6_3', 'BP4_5_6_10',\n",
       "       'BP4_5_6_11', 'BP4_5_6_12', 'BP4_5_6_01', 'BP4_5_6_02',\n",
       "       'BP4_5_6_03', 'BP4_5_6_04', 'BP4_5_6_05', 'BP4_5_6_06',\n",
       "       'BP4_5_6_07', 'BP4_5_6_08', 'BP4_5_6_09', 'BP5_1_1', 'BP5_1_2',\n",
       "       'BP5_1_3', 'BP1_6_7', 'BP1_6_8'], dtype=object)"
      ]
     },
     "execution_count": 31,
     "metadata": {},
     "output_type": "execute_result"
    }
   ],
   "source": [
    "# Filtrar datos para Nuevo León\n",
    "df_nl = df_combined[df_combined['NOM_ENT'] == 'NUEVO LEON']\n",
    "df_nl.columns.values #Data test para verificar que se están todas las columnas completas"
   ]
  },
  {
   "cell_type": "code",
   "execution_count": null,
   "metadata": {},
   "outputs": [
    {
     "data": {
      "text/html": [
       "\n",
       "        <iframe\n",
       "            width=\"100%\"\n",
       "            height=\"650\"\n",
       "            src=\"http://127.0.0.1:8050/\"\n",
       "            frameborder=\"0\"\n",
       "            allowfullscreen\n",
       "            \n",
       "        ></iframe>\n",
       "        "
      ],
      "text/plain": [
       "<IPython.lib.display.IFrame at 0x1e551b61460>"
      ]
     },
     "metadata": {},
     "output_type": "display_data"
    },
    {
     "name": "stderr",
     "output_type": "stream",
     "text": [
      "C:\\Users\\comod\\AppData\\Local\\Temp\\ipykernel_13708\\1774569342.py:27: DeprecationWarning:\n",
      "\n",
      "DataFrameGroupBy.apply operated on the grouping columns. This behavior is deprecated, and in a future version of pandas the grouping columns will be excluded from the operation. Either pass `include_groups=False` to exclude the groupings or explicitly select the grouping columns after groupby to silence this warning.\n",
      "\n"
     ]
    }
   ],
   "source": [
    "# Aplicación Dash\n",
    "app = dash.Dash(__name__)\n",
    "\n",
    "app.layout = html.Div([\n",
    "    html.H1(\"Visualizador ENSU - Nuevo León 2024\"), # Encabezado del visualizador\n",
    "    dcc.Dropdown(\n",
    "        id='visualization-selector',\n",
    "        options=[\n",
    "            {'label': 'Percepción de inseguridad por mes', 'value': 'time'},\n",
    "            {'label': 'Municipios con mayor y menor percepción', 'value': 'municipalities'},\n",
    "            {'label': 'Percepción por tipo de lugar', 'value': 'place'},\n",
    "            {'label': 'Perspectiva de género', 'value': 'gender'}\n",
    "        ],\n",
    "        value='time'\n",
    "    ),\n",
    "    dcc.Graph(id='main-graph')\n",
    "])\n",
    "\n",
    "\n",
    "#Aquí filtro el indicador BP1_1 a solo 2 ya que son las respuestas de inseguridad y calculo el porcentaje de quienes respondieron eso\n",
    "@app.callback(\n",
    "    Output('main-graph', 'figure'),\n",
    "    Input('visualization-selector', 'value')\n",
    ")\n",
    "def update_graph(selected_visualization):\n",
    "    if selected_visualization == 'time':\n",
    "        df_time = df_nl.groupby('Mes').apply(lambda x: (x['BP1_1'] == 2).sum() / len(x) * 100).reset_index() # Aquí filtro el indicador BP1_1 a solo 2 ya que son las respuestas de inseguridad y calculo el porcentaje de quienes respondieron eso\n",
    "        df_time.columns = ['Mes', 'Porcentaje_Inseguridad']\n",
    "        df_time['Mes'] = pd.Categorical(df_time['Mes'], categories=['Marzo', 'Junio', 'Septiembre', 'Diciembre'], ordered=True) # Ordeno el mes para que no se muestre alfabeticamente en el gráfico\n",
    "        df_time = df_time.sort_values('Mes') #En caso de agregar mas años a analizar agregaria mes y años ordenados en la lista Ex. Dic24, Mar25, jun25, etc\n",
    "        fig = px.line(df_time, x='Mes', y='Porcentaje_Inseguridad', title='Percepción de inseguridad por mes en 2024') \n",
    "        fig.update_layout(xaxis_title=\"Mes\", yaxis_title=\"Porcentaje de percepción de inseguridad\", yaxis=dict(range=[0, 100])) # Agregué ejes de 0 a 100 para evitar sesgos\n",
    "    elif selected_visualization == 'municipalities':\n",
    "        df_mun = df_nl.groupby('NOM_MUN').apply(lambda x: (x['BP1_1'] == 2).sum() / len(x) * 100).sort_values(ascending=False).reset_index()\n",
    "        df_mun.columns = ['Municipio', 'Porcentaje_Inseguridad']\n",
    "        fig = px.bar(df_mun, x='Municipio', y='Porcentaje_Inseguridad', title='Percepción de inseguridad por municipio')\n",
    "        fig.update_layout(xaxis_title=\"Municipio\", yaxis_title=\"Porcentaje de percepción de inseguridad\")\n",
    "    elif selected_visualization == 'place':\n",
    "        place_columns = ['BP1_4_1', 'BP1_4_2', 'BP1_4_3', 'BP1_4_4', 'BP1_4_5', 'BP1_4_6', 'BP1_4_7', 'BP1_4_8']\n",
    "        place_names = ['Casa', 'Trabajo', 'Calle', 'Escuela', 'Mercado', 'Centro comercial', 'Banco', 'Transporte público']\n",
    "        df_place = df_nl[place_columns].apply(lambda x: (x == 2).sum() / len(x) * 100).reset_index()\n",
    "        df_place.columns = ['Lugar', 'Porcentaje_Inseguridad']\n",
    "        df_place['Lugar'] = place_names\n",
    "        fig = px.bar(df_place, x='Lugar', y='Porcentaje_Inseguridad', title='Percepción de inseguridad por tipo de lugar')\n",
    "        fig.update_layout(xaxis_title=\"Lugar\", yaxis_title=\"Porcentaje de percepción de inseguridad\")\n",
    "    else:  # gender\n",
    "        df_gender = df_nl.groupby('SEXO').apply(lambda x: (x['BP1_1'] == 2).sum() / len(x) * 100).reset_index()\n",
    "        df_gender.columns = ['SEXO', 'Porcentaje_Inseguridad']\n",
    "        df_gender['SEXO'] = df_gender['SEXO'].map({1: 'Hombre', 2: 'Mujer'})\n",
    "        fig = px.bar(df_gender, x='SEXO', y='Porcentaje_Inseguridad', title='Percepción de inseguridad por género')\n",
    "        fig.update_layout(xaxis_title=\"Género\", yaxis_title=\"Porcentaje de percepción de inseguridad\")\n",
    "    return fig\n",
    "\n",
    "\n",
    "if __name__ == '__main__':\n",
    "    app.run_server(debug=True)\n"
   ]
  }
 ],
 "metadata": {
  "kernelspec": {
   "display_name": "Python 3",
   "language": "python",
   "name": "python3"
  },
  "language_info": {
   "codemirror_mode": {
    "name": "ipython",
    "version": 3
   },
   "file_extension": ".py",
   "mimetype": "text/x-python",
   "name": "python",
   "nbconvert_exporter": "python",
   "pygments_lexer": "ipython3",
   "version": "3.12.3"
  }
 },
 "nbformat": 4,
 "nbformat_minor": 2
}
